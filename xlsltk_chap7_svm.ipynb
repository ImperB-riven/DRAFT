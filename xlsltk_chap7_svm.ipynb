{
  "nbformat": 4,
  "nbformat_minor": 0,
  "metadata": {
    "colab": {
      "name": "xlsltk_chap7_svm.ipynb",
      "provenance": [],
      "authorship_tag": "ABX9TyN1Rkka0E2t/4/tFvaJQcs6",
      "include_colab_link": true
    },
    "kernelspec": {
      "name": "python3",
      "display_name": "Python 3"
    },
    "language_info": {
      "name": "python"
    }
  },
  "cells": [
    {
      "cell_type": "markdown",
      "metadata": {
        "id": "view-in-github",
        "colab_type": "text"
      },
      "source": [
        "<a href=\"https://colab.research.google.com/github/ImperB-riven/DRAFT/blob/main/xlsltk_chap7_svm.ipynb\" target=\"_parent\"><img src=\"https://colab.research.google.com/assets/colab-badge.svg\" alt=\"Open In Colab\"/></a>"
      ]
    },
    {
      "cell_type": "code",
      "execution_count": 2,
      "metadata": {
        "colab": {
          "base_uri": "https://localhost:8080/"
        },
        "id": "_-EuIDWoMtAq",
        "outputId": "b092ccbb-67e5-4f92-b75b-454b20f6ced3"
      },
      "outputs": [
        {
          "output_type": "stream",
          "name": "stdout",
          "text": [
            "Support Vectors \n",
            " [[ 0.038758    0.53796     0.29090314]\n",
            " [-0.49116    -0.20563     0.28352184]\n",
            " [-0.45068    -0.04797     0.20541358]\n",
            " [-0.061107   -0.41651     0.17721465]]\n",
            "Support Vector Labels  [-1. -1.  1.  1.]\n",
            "Nu [[ -46.49249413 -249.01807328  265.31805855   30.19250886]]\n",
            "Bias [5.617891]\n"
          ]
        }
      ],
      "source": [
        "import numpy as np\n",
        "from numpy import genfromtxt\n",
        "from sklearn.svm import SVC\n",
        "name = 'https://raw.githubusercontent.com/DSML-book/Programs/master/Chapter7/svmcirc.csv'\n",
        "data = genfromtxt (name, delimiter =',')\n",
        "x = data [: ,[0 ,1]] #vectors are rows\n",
        "y = data [: ,[2]]. reshape(len(x) ,) #labels\n",
        "tmp = np.sum(np.power(x ,2) ,axis =1).reshape(len(x) ,1)\n",
        "z = np.hstack ((x,tmp))\n",
        "clf = SVC(C = np.inf , kernel='linear')\n",
        "clf.fit(z,y)\n",
        "print(\"Support Vectors \\n\", clf. support_vectors_ )\n",
        "print(\"Support Vector Labels \",y[clf.support_ ])\n",
        "print(\"Nu\",clf. dual_coef_ )\n",
        "print(\"Bias\",clf. intercept_ )"
      ]
    },
    {
      "cell_type": "code",
      "source": [
        "import numpy as np , matplotlib .pyplot as plt\n",
        "from numpy import genfromtxt\n",
        "from sklearn.svm import SVC\n",
        "def mykernel(U,V):\n",
        "  tmpU = np.sum(np.power(U ,2) ,axis =1).reshape(len(U) ,1)\n",
        "  U = np.hstack ((U,tmpU))\n",
        "  tmpV = np.sum(np.power(V ,2) ,axis =1).reshape(len(V) ,1)\n",
        "  V = np.hstack ((V,tmpV))\n",
        "  K = U @ V.T\n",
        "  print(K.shape)\n",
        "  return K\n",
        "\n",
        "# read in the data\n",
        "inp = genfromtxt (name, delimiter =',')\n",
        "data = inp [: ,[0 ,1]] #vectors are rows\n",
        "y = inp [: ,[2]]. reshape(len(data) ,) #labels\n",
        "clf = SVC(C = np.inf , kernel=mykernel , gamma='auto') # custom kernel\n",
        "\n",
        "# clf = SVC(C = np.inf , kernel =\" rbf\", gamma='scale ') # inbuilt\n",
        "clf.fit(data ,y)\n",
        "print(\"Support Vectors \\n\", clf. support_vectors_ )\n",
        "print(\"Support Vector Labels \",y[clf.support_ ])\n",
        "print(\"Nu \",clf. dual_coef_ )\n",
        "print(\"Bias \",clf. intercept_ )\n",
        "\n",
        "# plot\n",
        "d = 0.001\n",
        "x_min , x_max = -1,1\n",
        "y_min , y_max = -1,1\n",
        "xx , yy = np.meshgrid(np.arange(x_min , x_max , d), np.arange(y_min ,\n",
        "y_max , d))\n",
        "plt.plot(data[clf.support_ ,0], data[clf.support_ ,1],'go')\n",
        "plt.plot(data[y==1 ,0] , data[y==1 ,1] ,'b.')\n",
        "plt.plot(data[y==-1,0], data[y==-1,1],'rx')\n",
        "Z = clf.predict(np.c_[xx.ravel (), yy.ravel ()])\n",
        "Z = Z.reshape(xx.shape)\n",
        "plt.contour(xx , yy , Z,colors =\"k\")\n",
        "plt.show ()"
      ],
      "metadata": {
        "colab": {
          "base_uri": "https://localhost:8080/",
          "height": 386
        },
        "id": "lqpiHeWLOQvX",
        "outputId": "7fab986f-042a-493b-9020-4b2c8194a50c"
      },
      "execution_count": 4,
      "outputs": [
        {
          "output_type": "stream",
          "name": "stdout",
          "text": [
            "(50, 50)\n",
            "Support Vectors \n",
            " []\n",
            "Support Vector Labels  [-1. -1.  1.  1.]\n",
            "Nu  [[ -46.49249413 -249.01807328  265.31805855   30.19250886]]\n",
            "Bias  [5.617891]\n",
            "(4000000, 50)\n"
          ]
        },
        {
          "output_type": "display_data",
          "data": {
            "image/png": "[encoded data removed]",
            "text/plain": [
              "<Figure size 432x288 with 1 Axes>"
            ]
          },
          "metadata": {
            "needs_background": "light"
          }
        }
      ]
    }
  ]
}